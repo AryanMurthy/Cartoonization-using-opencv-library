{
 "cells": [
  {
   "cell_type": "markdown",
   "id": "initial-instrumentation",
   "metadata": {},
   "source": [
    "# In this part we will be setting the parameters, reading the image and resizing it."
   ]
  },
  {
   "cell_type": "code",
   "execution_count": 11,
   "id": "narrow-craps",
   "metadata": {},
   "outputs": [
    {
     "name": "stdout",
     "output_type": "stream",
     "text": [
      "(995, 850, 3)\n"
     ]
    }
   ],
   "source": [
    "import cv2\n",
    "import numpy as np\n",
    "\n",
    "num_down = 2\n",
    "num_bilateral = 7\n",
    "\n",
    "img_rgb = cv2.imread(\"C:/Users/ARYAN/cartoon_python/rajaGanapathy.jpg\")\n",
    "print(img_rgb.shape)\n",
    "img_rgb = cv2.resize(img_rgb,(800,800))"
   ]
  },
  {
   "cell_type": "markdown",
   "id": "immediate-blair",
   "metadata": {},
   "source": [
    "# Now, we will be downsampling the image and then applying bilateral filter, mentioned amount of times."
   ]
  },
  {
   "cell_type": "code",
   "execution_count": 8,
   "id": "funky-singer",
   "metadata": {},
   "outputs": [],
   "source": [
    "img_rgb=cv2.resize(img_rgb,(800,800))\n",
    "img_color = img_rgb\n",
    "for _ in range(num_down):\n",
    "    img_color = cv2.pyrDown(img_color)\n",
    "for _ in range(num_bilateral):\n",
    "    img_color = cv2.bilateralFilter(img_color,5,9,9)"
   ]
  },
  {
   "cell_type": "markdown",
   "id": "composed-freeze",
   "metadata": {},
   "source": [
    "# We will now unsample, convert the image to grayscale and apply median blur. After that, apply thresholding."
   ]
  },
  {
   "cell_type": "code",
   "execution_count": 9,
   "id": "spread-demonstration",
   "metadata": {},
   "outputs": [
    {
     "name": "stdout",
     "output_type": "stream",
     "text": [
      "[[  0   0   0 ... 255 255 255]\n",
      " [  0   0   0 ... 255 255 255]\n",
      " [255 255 255 ... 255 255 255]\n",
      " ...\n",
      " [255 255 255 ... 255 255 255]\n",
      " [255 255 255 ... 255 255 255]\n",
      " [255 255 255 ... 255 255 255]]\n"
     ]
    }
   ],
   "source": [
    "for _ in range(num_down):\n",
    "    img_color = cv2.pyrUp(img_color)\n",
    "\n",
    "img_gray = cv2.cvtColor(img_rgb,cv2.COLOR_RGB2GRAY)\n",
    "img_blur = cv2.medianBlur(img_gray, 7)\n",
    "\n",
    "img_edge = cv2.adaptiveThreshold(img_blur, 255, cv2.ADAPTIVE_THRESH_MEAN_C, cv2.THRESH_BINARY, 9, 2)\n",
    "print(img_edge)"
   ]
  },
  {
   "cell_type": "markdown",
   "id": "under-medline",
   "metadata": {},
   "source": [
    "# We now perform 'bitwise AND', and then display the resultant image. Do make sure to add in the end: cv2.waitkey(0)"
   ]
  },
  {
   "cell_type": "code",
   "execution_count": 10,
   "id": "knowing-reaction",
   "metadata": {},
   "outputs": [],
   "source": [
    "img = cv2.cvtColor(img_edge, cv2.COLOR_GRAY2RGB)\n",
    "img_cartoon = cv2.bitwise_and(img_color, img)\n",
    "#cv2.imshow(\"cartoon\",img_cartoon)\n",
    "stack = np.hstack([img_rgb,img_cartoon])\n",
    "cv2.imshow('Cartoonized image', stack)\n",
    "cv2.waitKey(0) \n",
    "cv2.destroyAllWindows() "
   ]
  },
  {
   "cell_type": "code",
   "execution_count": null,
   "id": "clean-istanbul",
   "metadata": {},
   "outputs": [],
   "source": []
  }
 ],
 "metadata": {
  "kernelspec": {
   "display_name": "Python 3",
   "language": "python",
   "name": "python3"
  },
  "language_info": {
   "codemirror_mode": {
    "name": "ipython",
    "version": 3
   },
   "file_extension": ".py",
   "mimetype": "text/x-python",
   "name": "python",
   "nbconvert_exporter": "python",
   "pygments_lexer": "ipython3",
   "version": "3.9.1"
  }
 },
 "nbformat": 4,
 "nbformat_minor": 5
}
